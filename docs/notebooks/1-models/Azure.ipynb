{
 "cells": [
  {
   "cell_type": "code",
   "execution_count": null,
   "metadata": {
    "dotnet_interactive": {
     "language": "csharp"
    },
    "polyglot_notebook": {
     "kernelName": "csharp"
    }
   },
   "outputs": [],
   "source": [
    "#!import \"../0-setup/Packages.ipynb\""
   ]
  },
  {
   "cell_type": "markdown",
   "metadata": {},
   "source": [
    "# Azure Subscription\n",
    "\n",
    "This model is based on the subscription webhooks received from the Azure Marketplace.\n",
    "The landing page creates these facts.\n",
    "The portal subscribes to them to determine how many replicators can be configured.\n",
    "\n",
    "## Enterprise Application Pattern\n",
    "\n",
    "The Azure landing page app is an enterprise application.\n",
    "The top-level user is a temporary principal.\n",
    "It is created to initialize the environment and the first administrator.\n",
    "And then the private key is discarded."
   ]
  },
  {
   "cell_type": "code",
   "execution_count": null,
   "metadata": {
    "dotnet_interactive": {
     "language": "csharp"
    },
    "polyglot_notebook": {
     "kernelName": "csharp"
    }
   },
   "outputs": [],
   "source": [
    "[FactType(\"Azure.Environment\")]\n",
    "public record AzureEnvironment(User creator, string environmentId);\n",
    "\n",
    "Renderer.RenderTypes(typeof(AzureEnvironment))"
   ]
  },
  {
   "cell_type": "markdown",
   "metadata": {},
   "source": [
    "Administrators represent people.\n",
    "Administrators are granted permission to add service principals and other administrators to an environment.\n",
    "That permission can be revoked.\n",
    "\n",
    "The creator of the environment grants permission to the initial administrator.\n",
    "Thereafter, an administrator can add new administrators and revoke permissions."
   ]
  },
  {
   "cell_type": "code",
   "execution_count": null,
   "metadata": {
    "dotnet_interactive": {
     "language": "csharp"
    },
    "polyglot_notebook": {
     "kernelName": "csharp"
    }
   },
   "outputs": [],
   "source": [
    "[FactType(\"Azure.Administrator\")]\n",
    "public record AzureAdministrator(User user, AzureEnvironment environment, DateTime createdAt);\n",
    "\n",
    "[FactType(\"Azure.Administrator.Revoke\")]\n",
    "public record RevokeAzureAdministrator(AzureAdministrator administrator);\n",
    "\n",
    "Renderer.RenderTypes(typeof(AzureAdministrator), typeof(RevokeAzureAdministrator))"
   ]
  },
  {
   "cell_type": "markdown",
   "metadata": {},
   "source": [
    "## Azure Marketplace Service Principals\n",
    "\n",
    "Service principals represents machines.\n",
    "Different machines play different roles within the process.\n",
    "The model represents each role as a different type, so that authorization and distribution rules can be granular.\n",
    "\n",
    "Azure Marketplace service principals run the marketplace admin site and landing page.\n",
    "They respond to user input, administrator input, and webhooks.\n",
    "They can record facts about user identities and subscriptions.\n",
    "\n",
    "Portal service principals run the Replicator portal.\n",
    "They connect the user and their replicators to Azure user identities and subscriptions.\n",
    "They use that information to enable and disable endpoints in the multitenant replicator and API gateway.\n",
    "\n",
    "An administrator creates service principals.\n",
    "Service principals cannot grant privileges to others."
   ]
  },
  {
   "cell_type": "code",
   "execution_count": null,
   "metadata": {
    "dotnet_interactive": {
     "language": "csharp"
    },
    "polyglot_notebook": {
     "kernelName": "csharp"
    }
   },
   "outputs": [],
   "source": [
    "[FactType(\"Azure.ServicePrincipal\")]\n",
    "public record AzureServicePrincipal(User user, AzureEnvironment environment, DateTime createdAt);\n",
    "\n",
    "[FactType(\"Azure.ServicePrincipal.Revoke\")]\n",
    "public record RevokeAzureServicePrincipal(AzureServicePrincipal servicePrincipal);\n",
    "\n",
    "Renderer.RenderTypes(typeof(AzureServicePrincipal), typeof(RevokeAzureServicePrincipal))"
   ]
  },
  {
   "cell_type": "markdown",
   "metadata": {},
   "source": [
    "## Subscriptions\n",
    "\n",
    "Azure informs the landing page app of subscription activities by and related to a user.\n",
    "It does so through webhook calls.\n",
    "The landing page app also permits that user to take actions on the subscription through its own user interface."
   ]
  },
  {
   "cell_type": "code",
   "execution_count": null,
   "metadata": {
    "dotnet_interactive": {
     "language": "csharp"
    },
    "polyglot_notebook": {
     "kernelName": "csharp"
    }
   },
   "outputs": [],
   "source": [
    "[FactType(\"Azure.Subscription\")]\n",
    "public record Subscription(AzureEnvironment environment, Guid subscriptionId);\n",
    "\n",
    "[FactType(\"Azure.Subscription.Name\")]\n",
    "public record SubscriptionName(Subscription subscription, string value, SubscriptionName[] prior);\n",
    "\n",
    "[FactType(\"Azure.Subscription.Unsubscribe\")]\n",
    "public record Unsubscribe(Subscription subscription);\n",
    "\n",
    "Renderer.RenderTypes(typeof(Subscription), typeof(Unsubscribe))"
   ]
  },
  {
   "cell_type": "markdown",
   "metadata": {},
   "source": [
    "This model also represents the user by their identifier.\n",
    "The model does not treat Azure users as Jinaga users.\n",
    "It records information _about_ the user, not _by_ the user.\n",
    "\n",
    "A user can transfer a subscription to another user.\n",
    "This is modeled using the Entity Reference pattern, a kind of mutable property."
   ]
  },
  {
   "cell_type": "code",
   "execution_count": null,
   "metadata": {
    "dotnet_interactive": {
     "language": "csharp"
    },
    "polyglot_notebook": {
     "kernelName": "csharp"
    }
   },
   "outputs": [],
   "source": [
    "[FactType(\"Azure.UserIdentity\")]\n",
    "public record UserIdentity(AzureEnvironment environment, string userId);\n",
    "\n",
    "[FactType(\"Azure.Subscription.UserIdentity\")]\n",
    "public record SubscriptionUserIdentity(Subscription subscription, UserIdentity userIdentity, SubscriptionUserIdentity[] prior);\n",
    "\n",
    "Renderer.RenderTypes(typeof(SubscriptionUserIdentity))"
   ]
  },
  {
   "cell_type": "markdown",
   "metadata": {},
   "source": [
    "## Subscription Activities\n",
    "\n",
    "A user can adjust the plan to which a subscription applies.\n",
    "This is captured as a mutable property."
   ]
  },
  {
   "cell_type": "code",
   "execution_count": null,
   "metadata": {
    "dotnet_interactive": {
     "language": "csharp"
    },
    "polyglot_notebook": {
     "kernelName": "csharp"
    }
   },
   "outputs": [],
   "source": [
    "\n",
    "[FactType(\"Azure.Plan\")]\n",
    "public record Plan(AzureEnvironment environment, string planId);\n",
    "\n",
    "[FactType(\"Azure.SubscriptionPlan\")]\n",
    "public record SubscriptionPlan(Subscription subscription, Plan plan, SubscriptionPlan[] prior);\n",
    "\n",
    "Renderer.RenderTypes(typeof(Plan), typeof(SubscriptionPlan))"
   ]
  },
  {
   "cell_type": "markdown",
   "metadata": {},
   "source": [
    "The user can activate and deactivate their subscription.\n",
    "Azure can also choose to suspend and reinstate the subscription.\n",
    "Finally, the user periodically renews their subscription.\n",
    "Renewal occurs within a monthly period."
   ]
  },
  {
   "cell_type": "code",
   "execution_count": null,
   "metadata": {
    "dotnet_interactive": {
     "language": "csharp"
    },
    "polyglot_notebook": {
     "kernelName": "csharp"
    }
   },
   "outputs": [],
   "source": [
    "\n",
    "[FactType(\"Azure.Subscription.Activate\")]\n",
    "public record Activate(Subscription subscription, DateTime activatedAt);\n",
    "\n",
    "[FactType(\"Azure.Subscription.Deactivate\")]\n",
    "public record Deactivate(Activate activate, DateTime deactivatedAt);\n",
    "\n",
    "[FactType(\"Azure.Subscription.Suspend\")]\n",
    "public record Suspend(Subscription subscription, DateTime suspendedAt);\n",
    "\n",
    "[FactType(\"Azure.Subscription.Reinstate\")]\n",
    "public record Reinstate(Suspend suspend, DateTime reinstatedAt);\n",
    "\n",
    "[FactType(\"Azure.Month\")]\n",
    "public record Month(AzureEnvironment environment, int year, int month);\n",
    "\n",
    "[FactType(\"Azure.Subscription.Renew\")]\n",
    "public record Renew(Subscription subscription, Month month, DateTime renewedAt);\n",
    "\n",
    "Renderer.RenderTypes(typeof(Suspend), typeof(Reinstate), typeof(Renew), typeof(Activate), typeof(Deactivate))"
   ]
  }
 ],
 "metadata": {
  "kernelspec": {
   "display_name": ".NET (C#)",
   "language": "C#",
   "name": ".net-csharp"
  },
  "polyglot_notebook": {
   "kernelInfo": {
    "defaultKernelName": "csharp",
    "items": [
     {
      "aliases": [],
      "languageName": "csharp",
      "name": "csharp"
     }
    ]
   }
  }
 },
 "nbformat": 4,
 "nbformat_minor": 2
}
