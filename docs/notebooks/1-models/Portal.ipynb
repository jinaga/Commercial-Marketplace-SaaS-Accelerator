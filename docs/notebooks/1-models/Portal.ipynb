{
 "cells": [
  {
   "cell_type": "code",
   "execution_count": null,
   "metadata": {
    "dotnet_interactive": {
     "language": "csharp"
    },
    "polyglot_notebook": {
     "kernelName": "csharp"
    }
   },
   "outputs": [],
   "source": [
    "#!import \"../0-setup/Packages.ipynb\""
   ]
  },
  {
   "cell_type": "markdown",
   "metadata": {},
   "source": [
    "## Replicator\n",
    "\n",
    "A developer can create any number of replicators.\n",
    "They give them a name and an environment (typically \"dev\", \"test\", or \"prod\").\n",
    "Both name and environment are mutable properties."
   ]
  },
  {
   "cell_type": "code",
   "execution_count": null,
   "metadata": {
    "dotnet_interactive": {
     "language": "csharp"
    },
    "polyglot_notebook": {
     "kernelName": "csharp"
    }
   },
   "outputs": [],
   "source": [
    "[FactType(\"RaaS.Replicator\")]\n",
    "public record Replicator(User user, Guid identifier);\n",
    "\n",
    "[FactType(\"RaaS.Replicator.Name\")]\n",
    "public record ReplicatorName(Replicator replicator, string value, ReplicatorName[] prior);\n",
    "\n",
    "[FactType(\"RaaS.Replicator.Environment\")]\n",
    "public record ReplicatorEnvironment(Replicator replicator, string value, ReplicatorEnvironment[] prior);\n",
    "\n",
    "[FactType(\"RaaS.Replicator.Deleted\")]\n",
    "public record ReplicatorDeleted(Replicator replicator, DateTime deletedAt);\n",
    "\n",
    "Renderer.RenderTypes(typeof(Replicator), typeof(ReplicatorName), typeof(ReplicatorEnvironment), typeof(ReplicatorDeleted))"
   ]
  },
  {
   "cell_type": "markdown",
   "metadata": {},
   "source": [
    "## Authentication\n",
    "\n",
    "A developer can configure authentication mechanisms for replicators.\n",
    "Supported authentication mechanisms include Apple and Google.\n",
    "Given the requirements of each of those providers, these authentication mechanisms take different parameters.\n",
    "\n",
    "While the end user authenticates with Apple or Google, they use that identity to further authenticate with the replicator.\n",
    "This phase is a standard OAuth2 authorization code flow.\n",
    "The developer supplies callback URLs for this flow.\n",
    "\n",
    "All of this configuration information is shared with an environment.\n",
    "This environment is well known to the developer."
   ]
  },
  {
   "cell_type": "code",
   "execution_count": null,
   "metadata": {
    "dotnet_interactive": {
     "language": "csharp"
    },
    "polyglot_notebook": {
     "kernelName": "csharp"
    }
   },
   "outputs": [],
   "source": [
    "[FactType(\"RaaS.Environment\")]\n",
    "public record RaaSEnvironment(User creator, string environmentId);\n",
    "\n",
    "[FactType(\"RaaS.Replicator.AuthenticationServiceRequest\")]\n",
    "public record AuthenticationServiceRequest(\n",
    "    RaaSEnvironment environment,\n",
    "    Replicator replicator,\n",
    "    string callbackUrls,\n",
    "    AuthenticationServiceRequest[] prior);\n",
    "\n",
    "[FactType(\"RaaS.Replicator.AuthenticationApple\")]\n",
    "public record AuthenticationApple(\n",
    "    RaaSEnvironment environment, \n",
    "    Replicator replicator, \n",
    "    string? appDescription, \n",
    "    string appBundleId, \n",
    "    string? serviceDescription, \n",
    "    string serviceIdentifier, \n",
    "    string keyName, \n",
    "    string teamId, \n",
    "    string keyId, \n",
    "    string keySecret, \n",
    "    AuthenticationApple[] prior);\n",
    "\n",
    "[FactType(\"RaaS.Replicator.AuthenticationGoogle\")]\n",
    "public record AuthenticationGoogle(\n",
    "    RaaSEnvironment environment,\n",
    "    Replicator replicator,\n",
    "    string clientId,\n",
    "    string clientSecret,\n",
    "    AuthenticationGoogle[] prior);\n",
    "\n",
    "Renderer.RenderTypes(typeof(RaaSEnvironment), typeof(AuthenticationServiceRequest), typeof(AuthenticationApple), typeof(AuthenticationGoogle))"
   ]
  },
  {
   "cell_type": "markdown",
   "metadata": {},
   "source": [
    "## RaaS Portal Administrators\n",
    "\n",
    "Administrators represent people who can configure an environment.\n",
    "They grant privileges to other administrators and to service principals.\n",
    "That permission can be revoked.\n",
    "\n",
    "The creator of the environment grants permission to the first administrator.\n",
    "Thereafter, an administrator can add new administrators and revoke privileges."
   ]
  },
  {
   "cell_type": "code",
   "execution_count": null,
   "metadata": {
    "dotnet_interactive": {
     "language": "csharp"
    },
    "polyglot_notebook": {
     "kernelName": "csharp"
    }
   },
   "outputs": [],
   "source": [
    "[FactType(\"RaaS.Administrator\")]\n",
    "public record RaaSAdministrator(User user, RaaSEnvironment environment, DateTime createdAt);\n",
    "\n",
    "[FactType(\"RaaS.Administrator.Revoke\")]\n",
    "public record RaaSAdministratorRevoke(RaaSAdministrator administrator);\n",
    "\n",
    "Renderer.RenderTypes(typeof(RaaSAdministrator), typeof(RaaSAdministratorRevoke))"
   ]
  },
  {
   "cell_type": "markdown",
   "metadata": {},
   "source": [
    "## RaaS Portal Service Principals\n",
    "\n",
    "Service principals represent machines that perform functions within a RaaS portal environment.\n",
    "Those functions include configuring authentication providers and generating secrets.\n",
    "\n",
    "A portal administrator creates a service principal.\n",
    "Service principals cannot grant permissions to others."
   ]
  },
  {
   "cell_type": "code",
   "execution_count": null,
   "metadata": {
    "dotnet_interactive": {
     "language": "csharp"
    },
    "polyglot_notebook": {
     "kernelName": "csharp"
    }
   },
   "outputs": [],
   "source": [
    "[FactType(\"RaaS.ServicePrincipal\")]\n",
    "public record RaaSServicePrincipal(User user, RaaSEnvironment environment, DateTime createdAt);\n",
    "\n",
    "[FactType(\"RaaS.ServicePrincipal.Revoke\")]\n",
    "public record RevokeRaaSServicePrincipal(RaaSServicePrincipal servicePrincipal);\n",
    "\n",
    "Renderer.RenderTypes(typeof(RaaSServicePrincipal), typeof(RevokeRaaSServicePrincipal))"
   ]
  },
  {
   "cell_type": "markdown",
   "metadata": {},
   "source": [
    "## Request Completions\n",
    "\n",
    "A portal service principal processes the authentication and endpoint requests.\n",
    "It responds with a completion fact that sometimes carries generated information.\n",
    "\n",
    "For example, upon completing a request for an endpoint, the host provides a URL.\n",
    "And when completing a request for an OAuth2 authentication service, the host responds with the public key that will be used to validate JWT tokens."
   ]
  },
  {
   "cell_type": "code",
   "execution_count": null,
   "metadata": {
    "dotnet_interactive": {
     "language": "csharp"
    },
    "polyglot_notebook": {
     "kernelName": "csharp"
    }
   },
   "outputs": [],
   "source": [
    "[FactType(\"RaaS.RequestForEndpoint\")]\n",
    "public record RequestForEndpoint(RaaSEnvironment environment, Replicator replicator, DateTime createdAt);\n",
    "\n",
    "[FactType(\"RaaS.Endpoint\")]\n",
    "public record Endpoint(RequestForEndpoint request, string url);\n",
    "\n",
    "[FactType(\"RaaS.CompletedAuthenticationServiceRequest\")]\n",
    "public record CompletedAuthenticationServiceRequest(AuthenticationServiceRequest request, string publicKey);\n",
    "\n",
    "[FactType(\"RaaS.CompletedAuthenticationApple\")]\n",
    "public record CompletedAuthenticationApple(AuthenticationApple authenticationApple);\n",
    "\n",
    "[FactType(\"RaaS.CompletedAuthenticationGoogle\")]\n",
    "public record CompletedAuthenticationGoogle(AuthenticationGoogle authenticationGoogle);\n",
    "\n",
    "Renderer.RenderTypes(typeof(RequestForEndpoint), typeof(Endpoint), typeof(CompletedAuthenticationServiceRequest), typeof(CompletedAuthenticationApple), typeof(CompletedAuthenticationGoogle))"
   ]
  },
  {
   "cell_type": "markdown",
   "metadata": {},
   "source": [
    "## Secrets\n",
    "\n",
    "When setting up authorization and distribution rules, the developer must provide a shared secret.\n",
    "They request a secret from the environment.\n",
    "A service principal responds with a randomly generated secret that can be used to authenticate a CI/CD server."
   ]
  },
  {
   "cell_type": "code",
   "execution_count": null,
   "metadata": {
    "dotnet_interactive": {
     "language": "csharp"
    },
    "polyglot_notebook": {
     "kernelName": "csharp"
    }
   },
   "outputs": [],
   "source": [
    "[FactType(\"RaaS.Replicator.SecretRequest\")]\n",
    "public record ReplicatorSecretRequest(RaaSEnvironment environment, Replicator replicator, ReplicatorSecretRequest[] prior);\n",
    "\n",
    "[FactType(\"RaaS.Replicator.Secret\")]\n",
    "public record ReplicatorSecret(ReplicatorSecretRequest request, string secret);\n",
    "\n",
    "Renderer.RenderTypes(typeof(ReplicatorSecretRequest), typeof(ReplicatorSecret))"
   ]
  }
 ],
 "metadata": {
  "kernelspec": {
   "display_name": ".NET (C#)",
   "language": "C#",
   "name": ".net-csharp"
  },
  "polyglot_notebook": {
   "kernelInfo": {
    "defaultKernelName": "csharp",
    "items": [
     {
      "aliases": [],
      "languageName": "csharp",
      "name": "csharp"
     }
    ]
   }
  }
 },
 "nbformat": 4,
 "nbformat_minor": 2
}
