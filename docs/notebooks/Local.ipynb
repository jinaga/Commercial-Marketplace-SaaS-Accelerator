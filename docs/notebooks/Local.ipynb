{
 "cells": [
  {
   "cell_type": "code",
   "execution_count": null,
   "metadata": {
    "dotnet_interactive": {
     "language": "csharp"
    },
    "polyglot_notebook": {
     "kernelName": "csharp"
    }
   },
   "outputs": [],
   "source": [
    "#!import \"Model.ipynb\""
   ]
  },
  {
   "cell_type": "code",
   "execution_count": null,
   "metadata": {
    "dotnet_interactive": {
     "language": "csharp"
    },
    "polyglot_notebook": {
     "kernelName": "csharp"
    }
   },
   "outputs": [],
   "source": [
    "// Create a Jinaga client for the portal\n",
    "var jinagaClient = JinagaClient.Create(opt =>\n",
    "{\n",
    "    opt.HttpEndpoint = new Uri(\"http://localhost:8000/jinaga\");\n",
    "});"
   ]
  },
  {
   "cell_type": "code",
   "execution_count": null,
   "metadata": {
    "dotnet_interactive": {
     "language": "csharp"
    },
    "polyglot_notebook": {
     "kernelName": "csharp"
    }
   },
   "outputs": [],
   "source": [
    "// // Create an environment and make the logged in user an administrator.\n",
    "// var (user, profile) = await jinagaClient.Login();\n",
    "\n",
    "// var environment = await jinagaClient.SingleUse(async principal =>\n",
    "// {\n",
    "//     var environment = await jinagaClient.Fact(new Environment(principal, \"test\"));\n",
    "//     await jinagaClient.Fact(new Administrator(user, environment, DateTime.UtcNow));\n",
    "//     return environment;\n",
    "// });\n",
    "\n",
    "// System.Text.Json.JsonSerializer.Serialize(environment.creator.publicKey)"
   ]
  },
  {
   "cell_type": "code",
   "execution_count": null,
   "metadata": {
    "dotnet_interactive": {
     "language": "csharp"
    },
    "polyglot_notebook": {
     "kernelName": "csharp"
    }
   },
   "outputs": [],
   "source": [
    "string publicKey = \"-----BEGIN PUBLIC KEY-----\\r\\nMIIBCgKCAQEAo/bSdIPICOFDYuhDLbMYvkxb7wD0CdI8aCH+6AQKL5FkhEsCVoyM\\r\\nQ2aElw7nbmp9zNfzvHUQ008CDguUcbFM967iMN6Nkm749LHvgZlWExxHaTXQj1En\\r\\nOabwgACSYp3BmfiQuzK0/j16Z5QqQpsADE3hXuk0fAiDaZShiD5qa7OBva3yqASY\\r\\nrJ1mlBp4xb47PMJr1ava+1Trdqkx//LXgAUfFpytDkgjbY3YRHyfSlpk0k/BlhiA\\r\\ndEsjqyyVscrONrqnsWyrY6vz8fuuW5K1l/92U7J9581XEveAHpYpAV+5lwwyGLfc\\r\\nXSgFHL4QqSlVUcCjiKTKPLSCQ03AGBV8owIDAQAB\\r\\n-----END PUBLIC KEY-----\\r\\n\";\n",
    "\n",
    "var environment = new Environment(\n",
    "    new User(publicKey),\n",
    "    \"test\"\n",
    ");"
   ]
  },
  {
   "cell_type": "code",
   "execution_count": null,
   "metadata": {
    "dotnet_interactive": {
     "language": "csharp"
    },
    "polyglot_notebook": {
     "kernelName": "csharp"
    }
   },
   "outputs": [],
   "source": [
    "// var servicePrincipalPublicKey = \"-----BEGIN PUBLIC KEY-----\\r\\nMIIBIjANBgkqhkiG9w0BAQEFAAOCAQ8AMIIBCgKCAQEAvvadtWv8WldS\\u002B1EPgyoy\\r\\nJ37mXQEhSmqhqYzfNhBrj5AIjhqGshkU4DvzqHPkvOLDHKfbUVl\\u002BlC0Mo3S2aTHq\\r\\nivZtnSHN3fYW3MA12Ne8\\u002BTogpqk1dBHbg\\u002BfnQI6bnSmsG\\u002Bkw/ZdwtRlC/i55AjXG\\r\\np/dwlzjwQsvjE8J/1w\\u002BQBBAtBCNmcqp0qzH9CFhmyUxOmAVH/NTcfWmn6zRd5ITI\\r\\n7RseKr2CRl0iM9sNOUT3OR6AEjF4DG4rv9fGHFqW/U6hGKFUg4OwcxbN15lCyVWd\\r\\nbwtXV1noFkUVGCd9S\\u002BmQ0uVqa38lATTOHFvpLshJk7jhgEejqUeL7FdEstGAhiZz\\r\\n3QIDAQAB\\r\\n-----END PUBLIC KEY-----\\r\\n\";\n",
    "\n",
    "// var servicePrincipal = await jinagaClient.Fact(new ServicePrincipal(\n",
    "//     new User(servicePrincipalPublicKey),\n",
    "//     environment,\n",
    "//     DateTime.UtcNow\n",
    "// ));\n",
    "\n",
    "// servicePrincipal"
   ]
  },
  {
   "cell_type": "code",
   "execution_count": null,
   "metadata": {
    "dotnet_interactive": {
     "language": "csharp"
    },
    "polyglot_notebook": {
     "kernelName": "csharp"
    }
   },
   "outputs": [],
   "source": [
    "var servicePrincipalsInEnvironment = Given<Environment>.Match((environment, facts) =>\n",
    "    from servicePrincipal in facts.OfType<ServicePrincipal>()\n",
    "    where servicePrincipal.environment == environment &&\n",
    "        !facts.OfType<RevokeServicePrincipal>().Any(revoke => revoke.servicePrincipal == servicePrincipal)\n",
    "    select servicePrincipal\n",
    ");\n",
    "\n",
    "var servicePrincipals = await jinagaClient.Query(servicePrincipalsInEnvironment, environment);\n",
    "\n",
    "jinagaClient.RenderFacts(servicePrincipals)"
   ]
  },
  {
   "cell_type": "code",
   "execution_count": null,
   "metadata": {
    "dotnet_interactive": {
     "language": "csharp"
    },
    "polyglot_notebook": {
     "kernelName": "csharp"
    }
   },
   "outputs": [],
   "source": [
    "var subscriptionsInEnvironment = Given<Environment>.Match((environment, facts) =>\n",
    "    from subscription in facts.OfType<Subscription>()\n",
    "    where subscription.environment == environment\n",
    "    select new\n",
    "    {\n",
    "        subscription,\n",
    "        userIdentities = facts.OfType<SubscriptionUserIdentity>().Where(sui => sui.subscription == subscription),\n",
    "        plans = facts.OfType<SubscriptionPlan>().Where(sp => sp.subscription == subscription),\n",
    "        activations = facts.OfType<Activate>().Where(a => a.subscription == subscription),\n",
    "        deactivations = facts.OfType<Deactivate>().Where(d => d.activate.subscription == subscription),\n",
    "        suspensions = facts.OfType<Suspend>().Where(s => s.subscription == subscription),\n",
    "        reinstatements = facts.OfType<Reinstate>().Where(r => r.suspend.subscription == subscription),\n",
    "        renewals = facts.OfType<Renew>().Where(r => r.subscription == subscription)\n",
    "    }\n",
    ");\n",
    "\n",
    "var subscriptions = await jinagaClient.Query(subscriptionsInEnvironment, environment);\n",
    "\n",
    "jinagaClient.RenderFacts(subscriptions)"
   ]
  }
 ],
 "metadata": {
  "kernelspec": {
   "display_name": ".NET (C#)",
   "language": "C#",
   "name": ".net-csharp"
  },
  "polyglot_notebook": {
   "kernelInfo": {
    "defaultKernelName": "csharp",
    "items": [
     {
      "aliases": [],
      "languageName": "csharp",
      "name": "csharp"
     }
    ]
   }
  }
 },
 "nbformat": 4,
 "nbformat_minor": 2
}
