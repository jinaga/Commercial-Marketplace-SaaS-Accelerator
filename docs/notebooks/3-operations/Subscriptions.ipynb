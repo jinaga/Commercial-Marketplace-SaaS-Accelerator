{
 "cells": [
  {
   "cell_type": "code",
   "execution_count": null,
   "metadata": {
    "dotnet_interactive": {
     "language": "csharp"
    },
    "polyglot_notebook": {
     "kernelName": "csharp"
    }
   },
   "outputs": [],
   "source": [
    "#!import \"../1-models/Azure.ipynb\"\n",
    "#!import \"../3-operations/Connection.ipynb\""
   ]
  },
  {
   "cell_type": "code",
   "execution_count": null,
   "metadata": {
    "dotnet_interactive": {
     "language": "csharp"
    },
    "polyglot_notebook": {
     "kernelName": "csharp"
    }
   },
   "outputs": [],
   "source": [
    "var azureCreator = configuration.ContainsKey(\"azureCreator\") ?\n",
    "    configuration[\"azureCreator\"] :\n",
    "    null;\n",
    "\n",
    "var environmentIdentifier = configuration.ContainsKey(\"environmentIdentifier\") ?\n",
    "    configuration[\"environmentIdentifier\"] :\n",
    "    \"test\";\n",
    "\n",
    "var azureEnvironment = new AzureEnvironment(\n",
    "    new User(azureCreator),\n",
    "    environmentIdentifier\n",
    ");"
   ]
  },
  {
   "cell_type": "markdown",
   "metadata": {},
   "source": [
    "# Subscriptions\n",
    "\n",
    "This operational notebook helps an administrator to manage subscriptions within the Azure Marketplace."
   ]
  },
  {
   "cell_type": "code",
   "execution_count": null,
   "metadata": {
    "dotnet_interactive": {
     "language": "csharp"
    },
    "polyglot_notebook": {
     "kernelName": "csharp"
    }
   },
   "outputs": [],
   "source": [
    "var subscriptionsInEnvironment = Given<AzureEnvironment>.Match((environment, facts) =>\n",
    "    from subscription in facts.OfType<Subscription>()\n",
    "    where subscription.environment == environment\n",
    "    select new\n",
    "    {\n",
    "        subscription,\n",
    "        userIdentities = facts.OfType<SubscriptionUserIdentity>().Where(sui => sui.subscription == subscription),\n",
    "        plans = facts.OfType<SubscriptionPlan>().Where(sp => sp.subscription == subscription),\n",
    "        activations = facts.OfType<Activate>().Where(a => a.subscription == subscription),\n",
    "        deactivations = facts.OfType<Deactivate>().Where(d => d.activate.subscription == subscription),\n",
    "        suspensions = facts.OfType<Suspend>().Where(s => s.subscription == subscription),\n",
    "        reinstatements = facts.OfType<Reinstate>().Where(r => r.suspend.subscription == subscription),\n",
    "        renewals = facts.OfType<Renew>().Where(r => r.subscription == subscription)\n",
    "    }\n",
    ");\n",
    "\n",
    "var subscriptions = await jinagaClient.Query(subscriptionsInEnvironment, azureEnvironment);\n",
    "\n",
    "jinagaClient.RenderFacts(subscriptions)"
   ]
  }
 ],
 "metadata": {
  "kernelspec": {
   "display_name": ".NET (C#)",
   "language": "C#",
   "name": ".net-csharp"
  },
  "polyglot_notebook": {
   "kernelInfo": {
    "defaultKernelName": "csharp",
    "items": [
     {
      "aliases": [],
      "languageName": "csharp",
      "name": "csharp"
     }
    ]
   }
  }
 },
 "nbformat": 4,
 "nbformat_minor": 2
}
