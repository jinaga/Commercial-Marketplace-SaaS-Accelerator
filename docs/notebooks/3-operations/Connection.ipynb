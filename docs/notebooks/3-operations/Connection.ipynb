{
 "cells": [
  {
   "cell_type": "code",
   "execution_count": 1,
   "metadata": {
    "dotnet_interactive": {
     "language": "csharp"
    },
    "polyglot_notebook": {
     "kernelName": "csharp"
    }
   },
   "outputs": [
    {
     "data": {
      "text/html": [
       "<div><div></div><div></div><div><strong>Installed Packages</strong><ul><li><span>Jinaga, 0.12.1</span></li><li><span>Jinaga.Graphviz, 0.12.1</span></li><li><span>Jinaga.UnitTest, 0.12.1</span></li></ul></div></div>"
      ]
     },
     "metadata": {},
     "output_type": "display_data"
    }
   ],
   "source": [
    "#!import \"../0-setup/Packages.ipynb\""
   ]
  },
  {
   "cell_type": "code",
   "execution_count": 2,
   "metadata": {
    "dotnet_interactive": {
     "language": "csharp"
    },
    "polyglot_notebook": {
     "kernelName": "csharp"
    }
   },
   "outputs": [
    {
     "data": {
      "text/html": [
       "<details open=\"open\" class=\"dni-treeview\"><summary><span class=\"dni-code-hint\"><code>(Jinaga.User, Jinaga.UserProfile)</code></span></summary><div><table><thead><tr></tr></thead><tbody><tr><td>Item1</td><td><details class=\"dni-treeview\"><summary><span class=\"dni-code-hint\"><code>Jinaga.User</code></span></summary><div><table><thead><tr></tr></thead><tbody><tr><td>publicKey</td><td><div class=\"dni-plaintext\"><pre>-----BEGIN PUBLIC KEY-----\r\n",
       "MIIBIjANBgkqhkiG9w0BAQEFAAOCAQ8AMIIBCgKCAQEAu5WfisRF9xNpi6P7CoWH\r\n",
       "57EeQrcDLlm2N69L+XBGZh/UG6k4tzHyQKUZsJxXQk4J5MsXNPN2REK0EV1MIQjO\r\n",
       "gEGsYVDJiiATSnEbf3x3rX/WoLc1beByoU1yr3/kTT62jokShAPhnB3EjjGQaPtU\r\n",
       "tAh4TZrF0xOOgRqe7C1UOBVJVezUGjrKxoG7atkcvPCBazZpai0VcshqBQnESre3\r\n",
       "gpp2fNLzyeivrv/DrxLj8GqGoV35BqANgu1LAh+1KknJPCPdbAZvIriklAxU6R20\r\n",
       "sBeuat1p8zfBk6L+L1b/SMbfXKp0RKMPTPO8I6RATudn6KNjzqXW3gEiwG4VKD3S\r\n",
       "5wIDAQAB\r\n",
       "-----END PUBLIC KEY-----\r\n",
       "</pre></div></td></tr></tbody></table></div></details></td></tr><tr><td>Item2</td><td><details class=\"dni-treeview\"><summary><span class=\"dni-code-hint\"><code>Jinaga.UserProfile</code></span></summary><div><table><thead><tr></tr></thead><tbody><tr><td>DisplayName</td><td><div class=\"dni-plaintext\"><pre>Michael Perry</pre></div></td></tr></tbody></table></div></details></td></tr></tbody></table></div></details><style>\r\n",
       ".dni-code-hint {\r\n",
       "    font-style: italic;\r\n",
       "    overflow: hidden;\r\n",
       "    white-space: nowrap;\r\n",
       "}\r\n",
       ".dni-treeview {\r\n",
       "    white-space: nowrap;\r\n",
       "}\r\n",
       ".dni-treeview td {\r\n",
       "    vertical-align: top;\r\n",
       "    text-align: start;\r\n",
       "}\r\n",
       "details.dni-treeview {\r\n",
       "    padding-left: 1em;\r\n",
       "}\r\n",
       "table td {\r\n",
       "    text-align: start;\r\n",
       "}\r\n",
       "table tr { \r\n",
       "    vertical-align: top; \r\n",
       "    margin: 0em 0px;\r\n",
       "}\r\n",
       "table tr td pre \r\n",
       "{ \r\n",
       "    vertical-align: top !important; \r\n",
       "    margin: 0em 0px !important;\r\n",
       "} \r\n",
       "table th {\r\n",
       "    text-align: start;\r\n",
       "}\r\n",
       "</style>"
      ]
     },
     "metadata": {},
     "output_type": "display_data"
    }
   ],
   "source": [
    "using System;\n",
    "using System.IO;\n",
    "using System.Text.Json;\n",
    "using System.Net.Http.Headers;\n",
    "using System.Threading.Tasks;\n",
    "\n",
    "class ConfigurationFile\n",
    "{\n",
    "    public string environment { get; set; }\n",
    "    public Dictionary<string, Dictionary<string, string>> settings { get; set; } =\n",
    "        new Dictionary<string, Dictionary<string, string>>();\n",
    "}\n",
    "\n",
    "// Load the configuration from `configuration.json`, if present.\n",
    "var configurationFile = File.Exists(\"./configuration.json\") ?\n",
    "    JsonSerializer.Deserialize<ConfigurationFile>(File.ReadAllText(\"./configuration.json\")) :\n",
    "    new ConfigurationFile();\n",
    "\n",
    "var environmentName = configurationFile.environment ?? \"local\";\n",
    "var configuration = configurationFile.settings.ContainsKey(environmentName) ?\n",
    "    configurationFile.settings[environmentName] :\n",
    "    new Dictionary<string, string>();\n",
    "\n",
    "var jinagaEndpoint = configuration.ContainsKey(\"jinagaEndpoint\") ?\n",
    "    configuration[\"jinagaEndpoint\"] :\n",
    "    \"http://localhost:8000/jinaga\";\n",
    "\n",
    "var cookie = configuration.ContainsKey(\"cookie\") ?\n",
    "    configuration[\"cookie\"] :\n",
    "    null;\n",
    "\n",
    "\n",
    "public class ExpressAuthenticationHandler : Jinaga.Http.IHttpAuthenticationProvider\n",
    "{\n",
    "    public readonly string cookie;\n",
    "\n",
    "    public ExpressAuthenticationHandler(string cookie)\n",
    "    {\n",
    "        this.cookie = cookie;\n",
    "    }\n",
    "\n",
    "    public void SetRequestHeaders(HttpRequestHeaders headers)\n",
    "    {\n",
    "        headers.Add(\"Cookie\", $\"connect.sid={cookie}\");\n",
    "    }\n",
    "\n",
    "    public Task<bool> Reauthenticate()\n",
    "    {\n",
    "        return Task.FromResult(false);\n",
    "    }\n",
    "}\n",
    "\n",
    "// Create a Jinaga client for the portal\n",
    "var jinagaClient = JinagaClient.Create(opt =>\n",
    "{\n",
    "    opt.HttpEndpoint = new Uri(jinagaEndpoint);\n",
    "    if (cookie != null)\n",
    "    {\n",
    "        opt.HttpAuthenticationProvider = new ExpressAuthenticationHandler(cookie);\n",
    "    }\n",
    "});\n",
    "\n",
    "// Log in to the portal.\n",
    "var (user, profile) = await jinagaClient.Login();\n",
    "\n",
    "(user, profile)"
   ]
  }
 ],
 "metadata": {
  "kernelspec": {
   "display_name": ".NET (C#)",
   "language": "C#",
   "name": ".net-csharp"
  },
  "polyglot_notebook": {
   "kernelInfo": {
    "defaultKernelName": "csharp",
    "items": [
     {
      "aliases": [],
      "languageName": "csharp",
      "name": "csharp"
     }
    ]
   }
  }
 },
 "nbformat": 4,
 "nbformat_minor": 2
}
